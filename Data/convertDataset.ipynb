{
 "cells": [
  {
   "cell_type": "markdown",
   "metadata": {},
   "source": [
    "Source data: https://openflights.org/data.php\n",
    "- https://raw.githubusercontent.com/jpatokal/openflights/master/data/routes.dat"
   ]
  },
  {
   "cell_type": "code",
   "execution_count": 1,
   "metadata": {},
   "outputs": [
    {
     "name": "stderr",
     "output_type": "stream",
     "text": [
      "/Library/Frameworks/Python.framework/Versions/3.12/lib/python3.12/site-packages/urllib3/connectionpool.py:1099: InsecureRequestWarning: Unverified HTTPS request is being made to host 'raw.githubusercontent.com'. Adding certificate verification is strongly advised. See: https://urllib3.readthedocs.io/en/latest/advanced-usage.html#tls-warnings\n",
      "  warnings.warn(\n"
     ]
    },
    {
     "name": "stdout",
     "output_type": "stream",
     "text": [
      "        0      1    2     3    4     5    6  7    8\n",
      "0      2B    410  AER  2965  KZN  2990  NaN  0  CR2\n",
      "1      2B    410  ASF  2966  KZN  2990  NaN  0  CR2\n",
      "2      2B    410  ASF  2966  MRV  2962  NaN  0  CR2\n",
      "3      2B    410  CEK  2968  KZN  2990  NaN  0  CR2\n",
      "4      2B    410  CEK  2968  OVB  4078  NaN  0  CR2\n",
      "...    ..    ...  ...   ...  ...   ...  ... ..  ...\n",
      "67658  ZL   4178  WYA  6334  ADL  3341  NaN  0  SF3\n",
      "67659  ZM  19016  DME  4029  FRU  2912  NaN  0  734\n",
      "67660  ZM  19016  FRU  2912  DME  4029  NaN  0  734\n",
      "67661  ZM  19016  FRU  2912  OSS  2913  NaN  0  734\n",
      "67662  ZM  19016  OSS  2913  FRU  2912  NaN  0  734\n",
      "\n",
      "[67663 rows x 9 columns]\n"
     ]
    }
   ],
   "source": [
    "import pandas as pd\n",
    "import requests\n",
    "from io import StringIO\n",
    "\n",
    "# URL to the routes data\n",
    "url = \"https://raw.githubusercontent.com/jpatokal/openflights/master/data/routes.dat\"\n",
    "\n",
    "# Fetch the data with SSL certificate verification disabled\n",
    "response = requests.get(url, verify=False)\n",
    "\n",
    "# Check if the request was successful\n",
    "if response.status_code == 200:\n",
    "    # Read the CSV data into a pandas DataFrame\n",
    "    df_routes = pd.read_csv(StringIO(response.text), header=None)\n",
    "    \n",
    "    # Display the DataFrame\n",
    "    print(df_routes)\n",
    "else:\n",
    "    print(\"Failed to fetch data:\", response.status_code)"
   ]
  },
  {
   "cell_type": "code",
   "execution_count": 2,
   "metadata": {},
   "outputs": [
    {
     "data": {
      "text/html": [
       "<div>\n",
       "<style scoped>\n",
       "    .dataframe tbody tr th:only-of-type {\n",
       "        vertical-align: middle;\n",
       "    }\n",
       "\n",
       "    .dataframe tbody tr th {\n",
       "        vertical-align: top;\n",
       "    }\n",
       "\n",
       "    .dataframe thead th {\n",
       "        text-align: right;\n",
       "    }\n",
       "</style>\n",
       "<table border=\"1\" class=\"dataframe\">\n",
       "  <thead>\n",
       "    <tr style=\"text-align: right;\">\n",
       "      <th></th>\n",
       "      <th>Source airport</th>\n",
       "      <th>Destination airport</th>\n",
       "    </tr>\n",
       "  </thead>\n",
       "  <tbody>\n",
       "    <tr>\n",
       "      <th>0</th>\n",
       "      <td>AER</td>\n",
       "      <td>KZN</td>\n",
       "    </tr>\n",
       "    <tr>\n",
       "      <th>1</th>\n",
       "      <td>ASF</td>\n",
       "      <td>KZN</td>\n",
       "    </tr>\n",
       "    <tr>\n",
       "      <th>2</th>\n",
       "      <td>ASF</td>\n",
       "      <td>MRV</td>\n",
       "    </tr>\n",
       "    <tr>\n",
       "      <th>3</th>\n",
       "      <td>CEK</td>\n",
       "      <td>KZN</td>\n",
       "    </tr>\n",
       "    <tr>\n",
       "      <th>4</th>\n",
       "      <td>CEK</td>\n",
       "      <td>OVB</td>\n",
       "    </tr>\n",
       "  </tbody>\n",
       "</table>\n",
       "</div>"
      ],
      "text/plain": [
       "  Source airport Destination airport\n",
       "0            AER                 KZN\n",
       "1            ASF                 KZN\n",
       "2            ASF                 MRV\n",
       "3            CEK                 KZN\n",
       "4            CEK                 OVB"
      ]
     },
     "execution_count": 2,
     "metadata": {},
     "output_type": "execute_result"
    }
   ],
   "source": [
    "# Rename the columns: Airline, Airline ID, Source airport, Source airport ID, Destination airport, Destination airport ID, Codeshare, Stops, Equipment\n",
    "df_routes.columns = [\"Airline\", \"Airline ID\", \"Source airport\", \"Source airport ID\", \"Destination airport\", \"Destination airport ID\", \"Codeshare\", \"Stops\", \"Equipment\"]\n",
    "\n",
    "# We only need the Source airport and Destination airport columns\n",
    "df_routes = df_routes[[\"Source airport\", \"Destination airport\"]]\n",
    "df_routes.head()"
   ]
  },
  {
   "cell_type": "code",
   "execution_count": 3,
   "metadata": {},
   "outputs": [],
   "source": [
    "# Export the data to a CSV file\n",
    "df_routes.to_csv(\"airplaneRoutes.csv\", index=False)"
   ]
  }
 ],
 "metadata": {
  "kernelspec": {
   "display_name": "Python 3",
   "language": "python",
   "name": "python3"
  },
  "language_info": {
   "codemirror_mode": {
    "name": "ipython",
    "version": 3
   },
   "file_extension": ".py",
   "mimetype": "text/x-python",
   "name": "python",
   "nbconvert_exporter": "python",
   "pygments_lexer": "ipython3",
   "version": "3.12.1"
  }
 },
 "nbformat": 4,
 "nbformat_minor": 2
}
